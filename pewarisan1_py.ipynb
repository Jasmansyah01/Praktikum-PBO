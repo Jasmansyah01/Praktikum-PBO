{
  "nbformat": 4,
  "nbformat_minor": 0,
  "metadata": {
    "colab": {
      "provenance": [],
      "authorship_tag": "ABX9TyNnAbhhLXO9s4HJ+JdaAGdP",
      "include_colab_link": true
    },
    "kernelspec": {
      "name": "python3",
      "display_name": "Python 3"
    },
    "language_info": {
      "name": "python"
    }
  },
  "cells": [
    {
      "cell_type": "markdown",
      "metadata": {
        "id": "view-in-github",
        "colab_type": "text"
      },
      "source": [
        "<a href=\"https://colab.research.google.com/github/Jasmansyah01/Praktikum_PBOTUGAS1/blob/main/pewarisan1_py.ipynb\" target=\"_parent\"><img src=\"https://colab.research.google.com/assets/colab-badge.svg\" alt=\"Open In Colab\"/></a>"
      ]
    },
    {
      "cell_type": "code",
      "source": [
        "class A:\n",
        " def _init_(self):\n",
        "   self ._a = 0\n",
        " def setA(self, a):\n",
        "   self ._a = a\n",
        " def getA(self):\n",
        "   return self._a\n",
        "\n",
        "#mendefinisikan kelas anak\n",
        "class B(A):\n",
        " def _init_(self):\n",
        "   self ._b = 0\n",
        " def setB(self, b):\n",
        "   self ._b = b\n",
        " def getB(self):\n",
        "   return self._b\n",
        "\n",
        "#membuat objek\n",
        "obj = B()\n",
        "\n",
        "#memanggil method milik kelas induk\n",
        "obj.setA(15)\n",
        "print(\"Nilai a: %d\" % obj.getA())\n",
        "\n",
        "#memanggil method milik dirinya sendiri\n",
        "obj.setB(30)\n",
        "print(\"Nilai b: %d\" % obj.getB())"
      ],
      "metadata": {
        "colab": {
          "base_uri": "https://localhost:8080/"
        },
        "id": "y1PEJegLf5-Z",
        "outputId": "3610da13-a64e-4139-8bdb-ec5e069857f2"
      },
      "execution_count": 3,
      "outputs": [
        {
          "output_type": "stream",
          "name": "stdout",
          "text": [
            "Nilai a: 15\n",
            "Nilai b: 30\n"
          ]
        }
      ]
    }
  ]
}