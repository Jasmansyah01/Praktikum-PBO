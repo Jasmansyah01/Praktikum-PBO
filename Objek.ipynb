{
  "nbformat": 4,
  "nbformat_minor": 0,
  "metadata": {
    "colab": {
      "provenance": [],
      "authorship_tag": "ABX9TyNkN8AOu5HXxeVW5PrLQcZ9",
      "include_colab_link": true
    },
    "kernelspec": {
      "name": "python3",
      "display_name": "Python 3"
    },
    "language_info": {
      "name": "python"
    }
  },
  "cells": [
    {
      "cell_type": "markdown",
      "metadata": {
        "id": "view-in-github",
        "colab_type": "text"
      },
      "source": [
        "<a href=\"https://colab.research.google.com/github/Jasmansyah01/Praktikum-PBO/blob/main/Objek.ipynb\" target=\"_parent\"><img src=\"https://colab.research.google.com/assets/colab-badge.svg\" alt=\"Open In Colab\"/></a>"
      ]
    },
    {
      "cell_type": "code",
      "execution_count": null,
      "metadata": {
        "colab": {
          "base_uri": "https://localhost:8080/"
        },
        "id": "7tQhZCGuvPZg",
        "outputId": "ebeb44da-fb67-4015-e614-a478754d924b"
      },
      "outputs": [
        {
          "output_type": "stream",
          "name": "stdout",
          "text": [
            "Buddy\n",
            "Canine\n",
            "3\n",
            "melky\n",
            "4\n"
          ]
        }
      ],
      "source": [
        "class Dog:\n",
        "    species = \"Canine\" #class Variabel\n",
        "\n",
        "    def __init__(self, name, age): #init method\n",
        "    #instane variabel\n",
        "        self.name = name\n",
        "        self.age = age\n",
        "\n",
        "# object\n",
        "dog1 = Dog(\"Buddy\", 3)\n",
        "dog2 = Dog(\"melky\", 4)\n",
        "\n",
        "print(dog1.name)\n",
        "print(dog1.species)\n",
        "print(dog1.age)\n",
        "print(dog2.name)\n",
        "print(dog2.age)"
      ]
    }
  ]
}